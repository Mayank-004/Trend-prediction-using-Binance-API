{
  "nbformat": 4,
  "nbformat_minor": 0,
  "metadata": {
    "kernelspec": {
      "display_name": "Python 3",
      "language": "python",
      "name": "python3"
    },
    "language_info": {
      "codemirror_mode": {
        "name": "ipython",
        "version": 3
      },
      "file_extension": ".py",
      "mimetype": "text/x-python",
      "name": "python",
      "nbconvert_exporter": "python",
      "pygments_lexer": "ipython3",
      "version": "3.8.5"
    },
    "colab": {
      "name": "EAI 6010 Final Project - Binance (ADA).ipynb",
      "provenance": [],
      "collapsed_sections": [],
      "include_colab_link": true
    }
  },
  "cells": [
    {
      "cell_type": "markdown",
      "metadata": {
        "id": "view-in-github",
        "colab_type": "text"
      },
      "source": [
        "<a href=\"https://colab.research.google.com/github/Mayank-004/Trend-prediction-using-Binance-API/blob/main/EAI_6010_Final_Project_Binance_(ADA).ipynb\" target=\"_parent\"><img src=\"https://colab.research.google.com/assets/colab-badge.svg\" alt=\"Open In Colab\"/></a>"
      ]
    },
    {
      "cell_type": "code",
      "metadata": {
        "colab": {
          "base_uri": "https://localhost:8080/"
        },
        "id": "RdR-UZojZU59",
        "outputId": "9574a5dc-4f92-41ae-eed2-9f66ec4f3969"
      },
      "source": [
        "# Download Python Binance Library (uncomment next 2 liens if library not already installed)\n",
        "\n",
        "import sys\n",
        "!{sys.executable} -m pip install python-binance\n",
        "\n",
        "import binance\n",
        "import pandas as pd\n",
        "import numpy as np\n",
        "import matplotlib.pyplot as plt\n",
        "import datetime\n",
        "from sklearn.model_selection import train_test_split\n",
        "from patsy import dmatrices\n",
        "from sklearn.neighbors import KNeighborsClassifier\n",
        "from sklearn.ensemble import RandomForestClassifier\n",
        "from sklearn.metrics import confusion_matrix, ConfusionMatrixDisplay, f1_score,accuracy_score\n",
        "import seaborn as sns\n",
        "import random\n",
        "import time\n",
        "random.seed(786)"
      ],
      "execution_count": 100,
      "outputs": [
        {
          "output_type": "stream",
          "text": [
            "Requirement already satisfied: python-binance in /usr/local/lib/python3.7/dist-packages (1.0.10)\n",
            "Requirement already satisfied: ujson in /usr/local/lib/python3.7/dist-packages (from python-binance) (4.0.2)\n",
            "Requirement already satisfied: websockets in /usr/local/lib/python3.7/dist-packages (from python-binance) (9.0.1)\n",
            "Requirement already satisfied: aiohttp in /usr/local/lib/python3.7/dist-packages (from python-binance) (3.7.4.post0)\n",
            "Requirement already satisfied: six in /usr/local/lib/python3.7/dist-packages (from python-binance) (1.15.0)\n",
            "Requirement already satisfied: dateparser in /usr/local/lib/python3.7/dist-packages (from python-binance) (1.0.0)\n",
            "Requirement already satisfied: requests in /usr/local/lib/python3.7/dist-packages (from python-binance) (2.23.0)\n",
            "Requirement already satisfied: yarl<2.0,>=1.0 in /usr/local/lib/python3.7/dist-packages (from aiohttp->python-binance) (1.6.3)\n",
            "Requirement already satisfied: chardet<5.0,>=2.0 in /usr/local/lib/python3.7/dist-packages (from aiohttp->python-binance) (3.0.4)\n",
            "Requirement already satisfied: multidict<7.0,>=4.5 in /usr/local/lib/python3.7/dist-packages (from aiohttp->python-binance) (5.1.0)\n",
            "Requirement already satisfied: attrs>=17.3.0 in /usr/local/lib/python3.7/dist-packages (from aiohttp->python-binance) (21.2.0)\n",
            "Requirement already satisfied: async-timeout<4.0,>=3.0 in /usr/local/lib/python3.7/dist-packages (from aiohttp->python-binance) (3.0.1)\n",
            "Requirement already satisfied: typing-extensions>=3.6.5 in /usr/local/lib/python3.7/dist-packages (from aiohttp->python-binance) (3.7.4.3)\n",
            "Requirement already satisfied: tzlocal in /usr/local/lib/python3.7/dist-packages (from dateparser->python-binance) (1.5.1)\n",
            "Requirement already satisfied: pytz in /usr/local/lib/python3.7/dist-packages (from dateparser->python-binance) (2018.9)\n",
            "Requirement already satisfied: regex!=2019.02.19 in /usr/local/lib/python3.7/dist-packages (from dateparser->python-binance) (2019.12.20)\n",
            "Requirement already satisfied: python-dateutil in /usr/local/lib/python3.7/dist-packages (from dateparser->python-binance) (2.8.1)\n",
            "Requirement already satisfied: idna<3,>=2.5 in /usr/local/lib/python3.7/dist-packages (from requests->python-binance) (2.10)\n",
            "Requirement already satisfied: certifi>=2017.4.17 in /usr/local/lib/python3.7/dist-packages (from requests->python-binance) (2020.12.5)\n",
            "Requirement already satisfied: urllib3!=1.25.0,!=1.25.1,<1.26,>=1.21.1 in /usr/local/lib/python3.7/dist-packages (from requests->python-binance) (1.24.3)\n"
          ],
          "name": "stdout"
        }
      ]
    },
    {
      "cell_type": "code",
      "metadata": {
        "id": "K6ymf5cfZU5-"
      },
      "source": [
        "# Binance API key and secret key\n",
        "binance_api='g4hg1wOj6QP1lq0SavNegKi2zlRsjPEWJbGcKo7SABQCtEENmadsRdW4ZHR676Yv'\n",
        "binance_secret='0W1uLsUY7H5VqfFRydvNSB2S7I2KlGFULRDKHGklhlfmsQhOJTKzCeXO5MOQ8ldp'"
      ],
      "execution_count": 48,
      "outputs": []
    },
    {
      "cell_type": "code",
      "metadata": {
        "id": "NFTKLUbdZU5_"
      },
      "source": [
        "# Initialize Binance API\n",
        "client = binance.Client(binance_api, binance_secret)"
      ],
      "execution_count": 49,
      "outputs": []
    },
    {
      "cell_type": "code",
      "metadata": {
        "id": "OWEALuXDZU5_"
      },
      "source": [
        "# Pull k-line historical data for ADA\n",
        "START = '1609459200' # Start string - Jan 1 2020 (Beginning of the year until now of historical data)\n",
        "k_line_type = binance.enums.HistoricalKlinesType.SPOT\n",
        "ADA_SYMBOL = 'ADAUSDT'\n",
        "KLINE_INTERVAL = '12h'\n",
        "hist_data = client.get_historical_klines(symbol=ADA_SYMBOL,interval=KLINE_INTERVAL,start_str=START,klines_type=k_line_type)"
      ],
      "execution_count": 50,
      "outputs": []
    },
    {
      "cell_type": "code",
      "metadata": {
        "id": "uF3jdSANnalN"
      },
      "source": [
        "hist_data"
      ],
      "execution_count": null,
      "outputs": []
    },
    {
      "cell_type": "markdown",
      "metadata": {
        "id": "9uVKrfBVZU5_"
      },
      "source": [
        "## Example Format for hist_data\n",
        "  [<br>\n",
        "    1499040000000,      # Open time \n",
        "    <br>\n",
        "    0.01634790,       # Open\n",
        "    <br>\n",
        "    0.80000000,       # High \n",
        "    <br>\n",
        "    0.01575800,       # Low \n",
        "    <br>\n",
        "    0.01577100,       # Close \n",
        "    <br>\n",
        "    148976.11427815,  # Volume \n",
        "    <br>\n",
        "    1499644799999,      # Close time\n",
        "    <br>\n",
        "    2434.19055334,    # Quote asset volume\n",
        "    <br>\n",
        "    308,                # Number of trades \n",
        "    <br>\n",
        "    1756.87402397,    # Taker buy base asset volume \n",
        "    <br>\n",
        "    28.46694368,      # Taker buy quote asset volume\n",
        "    <br>\n",
        "    17928899.62484339 # Ignore \n",
        "    <br>\n",
        "  ]\n",
        "  \n",
        " Source: https://sammchardy.github.io/historical-data-download-binance/"
      ]
    },
    {
      "cell_type": "code",
      "metadata": {
        "colab": {
          "base_uri": "https://localhost:8080/",
          "height": 204
        },
        "id": "QjujYox1ZU5_",
        "outputId": "647235a1-0a6d-4921-c4f9-43d1b263d951"
      },
      "source": [
        "# Initialize relevant data into DataFrame to use with model\n",
        "time = []\n",
        "open_list = []\n",
        "high_list = []\n",
        "low_list = []\n",
        "close_list = []\n",
        "trend = [] # 0 for open == close , 1 for open < close, -1 for close > open\n",
        "next_day_trend = []\n",
        "for i in range(len(hist_data)-1):\n",
        "    time.append(datetime.datetime.fromtimestamp(hist_data[i][0]/1000))\n",
        "    open_list.append(hist_data[i][1])\n",
        "    high_list.append(hist_data[i][2])\n",
        "    low_list.append(hist_data[i][3])\n",
        "    close_list.append(hist_data[i][4])\n",
        "    if (float(hist_data[i][4])-float(hist_data[i][1])) > 0:\n",
        "        trend.append(1)\n",
        "    if (float(hist_data[i][4])-float(hist_data[i][1])) < 0:\n",
        "#         trend.append(-1)\n",
        "        trend.append(0)\n",
        "    if (float(hist_data[i][4])-float(hist_data[i][1])) == 0:\n",
        "        trend.append(0)\n",
        "    if (float(hist_data[i+1][4])-float(hist_data[i][4])) > 0:\n",
        "        next_day_trend.append(1)\n",
        "    if (float(hist_data[i+1][4])-float(hist_data[i][4])) < 0:\n",
        "#         next_day_trend.append(-1)\n",
        "        next_day_trend.append(0)\n",
        "    if (float(hist_data[i+1][4])-float(hist_data[i][4])) == 0:\n",
        "        next_day_trend.append(0)\n",
        "df = pd.DataFrame(list(zip(time, open_list, high_list, low_list, close_list, trend, next_day_trend)),\n",
        "               columns =['Time','Open', 'High', 'Low', 'Close', 'Single_Day_Trend', 'Two_Day_Trend'])\n",
        "df.head()"
      ],
      "execution_count": 52,
      "outputs": [
        {
          "output_type": "execute_result",
          "data": {
            "text/html": [
              "<div>\n",
              "<style scoped>\n",
              "    .dataframe tbody tr th:only-of-type {\n",
              "        vertical-align: middle;\n",
              "    }\n",
              "\n",
              "    .dataframe tbody tr th {\n",
              "        vertical-align: top;\n",
              "    }\n",
              "\n",
              "    .dataframe thead th {\n",
              "        text-align: right;\n",
              "    }\n",
              "</style>\n",
              "<table border=\"1\" class=\"dataframe\">\n",
              "  <thead>\n",
              "    <tr style=\"text-align: right;\">\n",
              "      <th></th>\n",
              "      <th>Time</th>\n",
              "      <th>Open</th>\n",
              "      <th>High</th>\n",
              "      <th>Low</th>\n",
              "      <th>Close</th>\n",
              "      <th>Single_Day_Trend</th>\n",
              "      <th>Two_Day_Trend</th>\n",
              "    </tr>\n",
              "  </thead>\n",
              "  <tbody>\n",
              "    <tr>\n",
              "      <th>0</th>\n",
              "      <td>2021-01-01 00:00:00</td>\n",
              "      <td>0.18134000</td>\n",
              "      <td>0.18473000</td>\n",
              "      <td>0.17673000</td>\n",
              "      <td>0.17950000</td>\n",
              "      <td>0</td>\n",
              "      <td>0</td>\n",
              "    </tr>\n",
              "    <tr>\n",
              "      <th>1</th>\n",
              "      <td>2021-01-01 12:00:00</td>\n",
              "      <td>0.17943000</td>\n",
              "      <td>0.18359000</td>\n",
              "      <td>0.17000000</td>\n",
              "      <td>0.17509000</td>\n",
              "      <td>0</td>\n",
              "      <td>0</td>\n",
              "    </tr>\n",
              "    <tr>\n",
              "      <th>2</th>\n",
              "      <td>2021-01-02 00:00:00</td>\n",
              "      <td>0.17505000</td>\n",
              "      <td>0.17618000</td>\n",
              "      <td>0.16793000</td>\n",
              "      <td>0.17204000</td>\n",
              "      <td>0</td>\n",
              "      <td>1</td>\n",
              "    </tr>\n",
              "    <tr>\n",
              "      <th>3</th>\n",
              "      <td>2021-01-02 12:00:00</td>\n",
              "      <td>0.17207000</td>\n",
              "      <td>0.18457000</td>\n",
              "      <td>0.17026000</td>\n",
              "      <td>0.17742000</td>\n",
              "      <td>1</td>\n",
              "      <td>1</td>\n",
              "    </tr>\n",
              "    <tr>\n",
              "      <th>4</th>\n",
              "      <td>2021-01-03 00:00:00</td>\n",
              "      <td>0.17740000</td>\n",
              "      <td>0.19420000</td>\n",
              "      <td>0.17255000</td>\n",
              "      <td>0.18882000</td>\n",
              "      <td>1</td>\n",
              "      <td>1</td>\n",
              "    </tr>\n",
              "  </tbody>\n",
              "</table>\n",
              "</div>"
            ],
            "text/plain": [
              "                 Time        Open  ... Single_Day_Trend Two_Day_Trend\n",
              "0 2021-01-01 00:00:00  0.18134000  ...                0             0\n",
              "1 2021-01-01 12:00:00  0.17943000  ...                0             0\n",
              "2 2021-01-02 00:00:00  0.17505000  ...                0             1\n",
              "3 2021-01-02 12:00:00  0.17207000  ...                1             1\n",
              "4 2021-01-03 00:00:00  0.17740000  ...                1             1\n",
              "\n",
              "[5 rows x 7 columns]"
            ]
          },
          "metadata": {
            "tags": []
          },
          "execution_count": 52
        }
      ]
    },
    {
      "cell_type": "markdown",
      "metadata": {
        "id": "lcuustcEoMP7"
      },
      "source": [
        "### Data Visualization"
      ]
    },
    {
      "cell_type": "code",
      "metadata": {
        "colab": {
          "base_uri": "https://localhost:8080/"
        },
        "id": "-0kItbLMyirF",
        "outputId": "9e4307c2-19ed-4221-d41a-08482d2012ff"
      },
      "source": [
        "df.dtypes"
      ],
      "execution_count": 53,
      "outputs": [
        {
          "output_type": "execute_result",
          "data": {
            "text/plain": [
              "Time                datetime64[ns]\n",
              "Open                        object\n",
              "High                        object\n",
              "Low                         object\n",
              "Close                       object\n",
              "Single_Day_Trend             int64\n",
              "Two_Day_Trend                int64\n",
              "dtype: object"
            ]
          },
          "metadata": {
            "tags": []
          },
          "execution_count": 53
        }
      ]
    },
    {
      "cell_type": "code",
      "metadata": {
        "colab": {
          "base_uri": "https://localhost:8080/",
          "height": 49
        },
        "id": "ZUHurKi186xa",
        "outputId": "12ea3df4-bf2f-4caf-c225-d612300226f1"
      },
      "source": [
        "#Count Missing Data\n",
        "missing = df.isna().sum().sort_values(ascending = False)\n",
        "percent_missing = ((missing / df.isnull().count()) * 100).sort_values(ascending = False)\n",
        "missing_df = pd.concat([missing,percent_missing], axis = 1, keys = ['Total', 'Percent'],sort = False)\n",
        "missing_df[missing_df['Total'] >= 1]"
      ],
      "execution_count": 54,
      "outputs": [
        {
          "output_type": "execute_result",
          "data": {
            "text/html": [
              "<div>\n",
              "<style scoped>\n",
              "    .dataframe tbody tr th:only-of-type {\n",
              "        vertical-align: middle;\n",
              "    }\n",
              "\n",
              "    .dataframe tbody tr th {\n",
              "        vertical-align: top;\n",
              "    }\n",
              "\n",
              "    .dataframe thead th {\n",
              "        text-align: right;\n",
              "    }\n",
              "</style>\n",
              "<table border=\"1\" class=\"dataframe\">\n",
              "  <thead>\n",
              "    <tr style=\"text-align: right;\">\n",
              "      <th></th>\n",
              "      <th>Total</th>\n",
              "      <th>Percent</th>\n",
              "    </tr>\n",
              "  </thead>\n",
              "  <tbody>\n",
              "  </tbody>\n",
              "</table>\n",
              "</div>"
            ],
            "text/plain": [
              "Empty DataFrame\n",
              "Columns: [Total, Percent]\n",
              "Index: []"
            ]
          },
          "metadata": {
            "tags": []
          },
          "execution_count": 54
        }
      ]
    },
    {
      "cell_type": "code",
      "metadata": {
        "colab": {
          "base_uri": "https://localhost:8080/",
          "height": 49
        },
        "id": "jFpygFUw9XXt",
        "outputId": "ce901db7-757b-4c3c-eb73-eb2f5adb0474"
      },
      "source": [
        "# checking duplicate values in dataset\n",
        "duplicate=df[df.duplicated()]\n",
        "duplicate"
      ],
      "execution_count": 115,
      "outputs": [
        {
          "output_type": "execute_result",
          "data": {
            "text/html": [
              "<div>\n",
              "<style scoped>\n",
              "    .dataframe tbody tr th:only-of-type {\n",
              "        vertical-align: middle;\n",
              "    }\n",
              "\n",
              "    .dataframe tbody tr th {\n",
              "        vertical-align: top;\n",
              "    }\n",
              "\n",
              "    .dataframe thead th {\n",
              "        text-align: right;\n",
              "    }\n",
              "</style>\n",
              "<table border=\"1\" class=\"dataframe\">\n",
              "  <thead>\n",
              "    <tr style=\"text-align: right;\">\n",
              "      <th></th>\n",
              "      <th>Time</th>\n",
              "      <th>Open</th>\n",
              "      <th>High</th>\n",
              "      <th>Low</th>\n",
              "      <th>Close</th>\n",
              "      <th>Single_Day_Trend</th>\n",
              "      <th>Two_Day_Trend</th>\n",
              "    </tr>\n",
              "  </thead>\n",
              "  <tbody>\n",
              "  </tbody>\n",
              "</table>\n",
              "</div>"
            ],
            "text/plain": [
              "Empty DataFrame\n",
              "Columns: [Time, Open, High, Low, Close, Single_Day_Trend, Two_Day_Trend]\n",
              "Index: []"
            ]
          },
          "metadata": {
            "tags": []
          },
          "execution_count": 115
        }
      ]
    },
    {
      "cell_type": "code",
      "metadata": {
        "colab": {
          "base_uri": "https://localhost:8080/"
        },
        "id": "jY35Tzv2ABAj",
        "outputId": "1aa73b97-be48-4768-b830-b0498eaa98b3"
      },
      "source": [
        "# checking if dataset is balanced or imbalanced\n",
        "df['Two_Day_Trend'].value_counts(normalize=True)\n"
      ],
      "execution_count": 56,
      "outputs": [
        {
          "output_type": "execute_result",
          "data": {
            "text/plain": [
              "1    0.530075\n",
              "0    0.469925\n",
              "Name: Two_Day_Trend, dtype: float64"
            ]
          },
          "metadata": {
            "tags": []
          },
          "execution_count": 56
        }
      ]
    },
    {
      "cell_type": "code",
      "metadata": {
        "colab": {
          "base_uri": "https://localhost:8080/",
          "height": 351
        },
        "id": "zglUx_PTAPhB",
        "outputId": "ffa3c106-46b0-450f-da88-ed5903b72caa"
      },
      "source": [
        "# checking if dataset is balanced or imbalanced\n",
        "\n",
        "sns.countplot(df['Two_Day_Trend'])\n"
      ],
      "execution_count": 57,
      "outputs": [
        {
          "output_type": "stream",
          "text": [
            "/usr/local/lib/python3.7/dist-packages/seaborn/_decorators.py:43: FutureWarning: Pass the following variable as a keyword arg: x. From version 0.12, the only valid positional argument will be `data`, and passing other arguments without an explicit keyword will result in an error or misinterpretation.\n",
            "  FutureWarning\n"
          ],
          "name": "stderr"
        },
        {
          "output_type": "execute_result",
          "data": {
            "text/plain": [
              "<matplotlib.axes._subplots.AxesSubplot at 0x7f5e666b95d0>"
            ]
          },
          "metadata": {
            "tags": []
          },
          "execution_count": 57
        },
        {
          "output_type": "display_data",
          "data": {
            "image/png": "[encoded data removed]",
            "text/plain": [
              "<Figure size 432x288 with 1 Axes>"
            ]
          },
          "metadata": {
            "tags": [],
            "needs_background": "light"
          }
        }
      ]
    },
    {
      "cell_type": "code",
      "metadata": {
        "colab": {
          "base_uri": "https://localhost:8080/",
          "height": 402
        },
        "id": "UzhrY60BBfG6",
        "outputId": "8c18101b-93ca-4473-8b35-7cd56ebc7a2c"
      },
      "source": [
        "df1=df.copy(deep=True)\n",
        "\n",
        "# Filtering all Categorical variables\n",
        "vars_categorical = list(df1.select_dtypes(['object']).columns)\n",
        "\n",
        "for x in vars_categorical:\n",
        "    df1.loc[:,x] = df1.loc[:,x].astype(float)\n",
        "\n",
        "\n",
        "corrMatrix= df1.corr()\n",
        "\n",
        "fig, ax = plt.subplots(figsize=(5,5))         # Sample figsize in inches\n",
        "\n",
        "sns.heatmap(corrMatrix, annot=True,linewidth=0.8)\n",
        "plt.show()"
      ],
      "execution_count": 116,
      "outputs": [
        {
          "output_type": "display_data",
          "data": {
            "image/png": "[encoded data removed]",
            "text/plain": [
              "<Figure size 360x360 with 2 Axes>"
            ]
          },
          "metadata": {
            "tags": [],
            "needs_background": "light"
          }
        }
      ]
    },
    {
      "cell_type": "code",
      "metadata": {
        "id": "VlzBINcm-nTk",
        "outputId": "32a29373-55c2-4562-f3aa-bf691342fdc4",
        "colab": {
          "base_uri": "https://localhost:8080/",
          "height": 307
        }
      },
      "source": [
        ""
      ],
      "execution_count": 129,
      "outputs": [
        {
          "output_type": "error",
          "ename": "TypeError",
          "evalue": "ignored",
          "traceback": [
            "\u001b[0;31m---------------------------------------------------------------------------\u001b[0m",
            "\u001b[0;31mTypeError\u001b[0m                                 Traceback (most recent call last)",
            "\u001b[0;32m<ipython-input-129-ca033f5338c1>\u001b[0m in \u001b[0;36m<module>\u001b[0;34m()\u001b[0m\n\u001b[0;32m----> 1\u001b[0;31m \u001b[0mpd\u001b[0m\u001b[0;34m.\u001b[0m\u001b[0mplotting\u001b[0m\u001b[0;34m.\u001b[0m\u001b[0mautocorrelation_plot\u001b[0m\u001b[0;34m(\u001b[0m\u001b[0mdf\u001b[0m\u001b[0;34m[\u001b[0m\u001b[0;34m\"Time\"\u001b[0m\u001b[0;34m]\u001b[0m\u001b[0;34m.\u001b[0m\u001b[0mresample\u001b[0m\u001b[0;34m(\u001b[0m\u001b[0;34m'1y'\u001b[0m\u001b[0;34m)\u001b[0m\u001b[0;34m.\u001b[0m\u001b[0mmedian\u001b[0m\u001b[0;34m(\u001b[0m\u001b[0;34m)\u001b[0m\u001b[0;34m)\u001b[0m\u001b[0;34m\u001b[0m\u001b[0;34m\u001b[0m\u001b[0m\n\u001b[0m",
            "\u001b[0;32m/usr/local/lib/python3.7/dist-packages/pandas/core/generic.py\u001b[0m in \u001b[0;36mresample\u001b[0;34m(self, rule, axis, closed, label, convention, kind, loffset, base, on, level, origin, offset)\u001b[0m\n\u001b[1;32m   8094\u001b[0m             \u001b[0mlevel\u001b[0m\u001b[0;34m=\u001b[0m\u001b[0mlevel\u001b[0m\u001b[0;34m,\u001b[0m\u001b[0;34m\u001b[0m\u001b[0;34m\u001b[0m\u001b[0m\n\u001b[1;32m   8095\u001b[0m             \u001b[0morigin\u001b[0m\u001b[0;34m=\u001b[0m\u001b[0morigin\u001b[0m\u001b[0;34m,\u001b[0m\u001b[0;34m\u001b[0m\u001b[0;34m\u001b[0m\u001b[0m\n\u001b[0;32m-> 8096\u001b[0;31m             \u001b[0moffset\u001b[0m\u001b[0;34m=\u001b[0m\u001b[0moffset\u001b[0m\u001b[0;34m,\u001b[0m\u001b[0;34m\u001b[0m\u001b[0;34m\u001b[0m\u001b[0m\n\u001b[0m\u001b[1;32m   8097\u001b[0m         )\n\u001b[1;32m   8098\u001b[0m \u001b[0;34m\u001b[0m\u001b[0m\n",
            "\u001b[0;32m/usr/local/lib/python3.7/dist-packages/pandas/core/resample.py\u001b[0m in \u001b[0;36mget_resampler\u001b[0;34m(obj, kind, **kwds)\u001b[0m\n\u001b[1;32m   1268\u001b[0m     \"\"\"\n\u001b[1;32m   1269\u001b[0m     \u001b[0mtg\u001b[0m \u001b[0;34m=\u001b[0m \u001b[0mTimeGrouper\u001b[0m\u001b[0;34m(\u001b[0m\u001b[0;34m**\u001b[0m\u001b[0mkwds\u001b[0m\u001b[0;34m)\u001b[0m\u001b[0;34m\u001b[0m\u001b[0;34m\u001b[0m\u001b[0m\n\u001b[0;32m-> 1270\u001b[0;31m     \u001b[0;32mreturn\u001b[0m \u001b[0mtg\u001b[0m\u001b[0;34m.\u001b[0m\u001b[0m_get_resampler\u001b[0m\u001b[0;34m(\u001b[0m\u001b[0mobj\u001b[0m\u001b[0;34m,\u001b[0m \u001b[0mkind\u001b[0m\u001b[0;34m=\u001b[0m\u001b[0mkind\u001b[0m\u001b[0;34m)\u001b[0m\u001b[0;34m\u001b[0m\u001b[0;34m\u001b[0m\u001b[0m\n\u001b[0m\u001b[1;32m   1271\u001b[0m \u001b[0;34m\u001b[0m\u001b[0m\n\u001b[1;32m   1272\u001b[0m \u001b[0;34m\u001b[0m\u001b[0m\n",
            "\u001b[0;32m/usr/local/lib/python3.7/dist-packages/pandas/core/resample.py\u001b[0m in \u001b[0;36m_get_resampler\u001b[0;34m(self, obj, kind)\u001b[0m\n\u001b[1;32m   1434\u001b[0m \u001b[0;34m\u001b[0m\u001b[0m\n\u001b[1;32m   1435\u001b[0m         raise TypeError(\n\u001b[0;32m-> 1436\u001b[0;31m             \u001b[0;34m\"Only valid with DatetimeIndex, \"\u001b[0m\u001b[0;34m\u001b[0m\u001b[0;34m\u001b[0m\u001b[0m\n\u001b[0m\u001b[1;32m   1437\u001b[0m             \u001b[0;34m\"TimedeltaIndex or PeriodIndex, \"\u001b[0m\u001b[0;34m\u001b[0m\u001b[0;34m\u001b[0m\u001b[0m\n\u001b[1;32m   1438\u001b[0m             \u001b[0;34mf\"but got an instance of '{type(ax).__name__}'\"\u001b[0m\u001b[0;34m\u001b[0m\u001b[0;34m\u001b[0m\u001b[0m\n",
            "\u001b[0;31mTypeError\u001b[0m: Only valid with DatetimeIndex, TimedeltaIndex or PeriodIndex, but got an instance of 'RangeIndex'"
          ]
        }
      ]
    },
    {
      "cell_type": "code",
      "metadata": {
        "id": "otUpJEC1ZU6A"
      },
      "source": [
        "# Split relevant variables into matrices and split into train and test groups\n",
        "y, X = df['Two_Day_Trend'], [df['High'],df['Low'],df['Close'],df['Single_Day_Trend']]\n",
        "X_train, X_test, y_train, y_test = train_test_split(np.array(X).T, y, test_size=0.33, random_state=42,stratify=y)"
      ],
      "execution_count": 118,
      "outputs": []
    },
    {
      "cell_type": "code",
      "metadata": {
        "id": "Y21u9DgFDP1B"
      },
      "source": [
        "\n",
        "## defining a reusable function to evaluate model performance\n",
        "\n",
        "def eval_result(model_name,y_train,y_predtrain,y_test,y_predtest):\n",
        "\n",
        "    from sklearn.metrics import accuracy_score, roc_auc_score, classification_report, plot_confusion_matrix, plot_roc_curve\n",
        "    from matplotlib import pyplot as plt\n",
        "\n",
        "    train_accuracy = accuracy_score(y_train, y_predtrain)\n",
        "    print(f'training data accuracy {train_accuracy}')\n",
        "    train_roc_auc = roc_auc_score(y_train, y_predtrain) \n",
        "    print(f' Area under the ROC curve for training data {train_roc_auc}')\n",
        "    \n",
        "    test_accuracy = accuracy_score(y_test, y_predtest)\n",
        "    print(f'testing data accuracy {test_accuracy}')\n",
        "    test_roc_auc = roc_auc_score(y_test, y_predtest) \n",
        "    print(f' Area under the ROC curve for testing data {test_roc_auc}')\n",
        "    \n",
        "    print(classification_report(y_test,y_predtest,digits=5))\n",
        "    plot_confusion_matrix(model_name, X_test, y_test,cmap=plt.cm.pink, normalize = 'all')\n",
        "    plot_roc_curve(model_name, X_test, y_test)\n",
        "\n",
        "  "
      ],
      "execution_count": 119,
      "outputs": []
    },
    {
      "cell_type": "code",
      "metadata": {
        "id": "DTtSRgNguCSp"
      },
      "source": [
        "def run_model(model,verbose=True):\n",
        "    t0=time.time()\n",
        "    if verbose== False:\n",
        "        model.fit(X_train,y_train.ravel(),verbose=0)\n",
        "    else :\n",
        "        model.fit(X_train,y_train.ravel())\n",
        "    \n",
        "    time_taken= time.time()- t0\n",
        "    print(f'Time taken: {time_taken}')"
      ],
      "execution_count": 120,
      "outputs": []
    },
    {
      "cell_type": "markdown",
      "metadata": {
        "id": "dVwS2HzrZU6A"
      },
      "source": [
        "# kNN Model"
      ]
    },
    {
      "cell_type": "code",
      "metadata": {
        "scrolled": false,
        "colab": {
          "base_uri": "https://localhost:8080/",
          "height": 779
        },
        "id": "iBnwNNhDZU6A",
        "outputId": "68f2f93c-05ee-43c8-9d2e-e463f0326b3d"
      },
      "source": [
        "# p = 2 is equivalent to using the euclidean distance\n",
        "# weights = 'distance' means closer points are weighted more heavily than further away points\n",
        "n_neighbors = 5\n",
        "model1 = KNeighborsClassifier(n_neighbors=n_neighbors,weights='distance',algorithm='auto',p=2)\n",
        "run_model(model1)\n",
        "y_hat_train = model1.predict(X_train)\n",
        "y_hat_test = model1.predict(X_test)\n",
        "\n",
        "eval_result(model1,y_train,y_hat_train,y_test,y_hat_test)\n"
      ],
      "execution_count": 121,
      "outputs": [
        {
          "output_type": "stream",
          "text": [
            "Time taken: 0.0015397071838378906\n",
            "training data accuracy 1.0\n",
            " Area under the ROC curve for training data 1.0\n",
            "testing data accuracy 0.6136363636363636\n",
            " Area under the ROC curve for testing data 0.608718214841723\n",
            "              precision    recall  f1-score   support\n",
            "\n",
            "           0    0.59459   0.53659   0.56410        41\n",
            "           1    0.62745   0.68085   0.65306        47\n",
            "\n",
            "    accuracy                        0.61364        88\n",
            "   macro avg    0.61102   0.60872   0.60858        88\n",
            "weighted avg    0.61214   0.61364   0.61161        88\n",
            "\n"
          ],
          "name": "stdout"
        },
        {
          "output_type": "display_data",
          "data": {
            "image/png": "[encoded data removed]",
            "text/plain": [
              "<Figure size 432x288 with 2 Axes>"
            ]
          },
          "metadata": {
            "tags": [],
            "needs_background": "light"
          }
        },
        {
          "output_type": "display_data",
          "data": {
            "image/png": "[encoded data removed]",
            "text/plain": [
              "<Figure size 432x288 with 1 Axes>"
            ]
          },
          "metadata": {
            "tags": [],
            "needs_background": "light"
          }
        }
      ]
    },
    {
      "cell_type": "markdown",
      "metadata": {
        "id": "lB1zra1yZU6B"
      },
      "source": [
        "# Random Forest Model"
      ]
    },
    {
      "cell_type": "code",
      "metadata": {
        "id": "EnuL4-fCdAKR"
      },
      "source": [
        "\n",
        "# Hyperparameter Tuning\n",
        "# run once\n",
        "\n",
        "'''from sklearn.ensemble import RandomForestClassifier\n",
        "\n",
        "\n",
        "n_estimators_hyp = [100,200,300,400,500,700,1000]\n",
        "min_sample_leaf_hyp = np.linspace(1,20, 20);\n",
        "\n",
        "oobscore_list=dict()\n",
        "\n",
        "for i in n_estimators_hyp:\n",
        "    for j in min_sample_leaf_hyp:\n",
        "        model2 = RandomForestClassifier(n_estimators=i, min_samples_leaf=int(j), oob_score=True);\n",
        "        model2.fit(X_train, y_train)\n",
        "        key = \"n_estimator =\" +str(i)+\" min_sample_leaf =\"+str(j);\n",
        "        oobscore_list[key]=model2.oob_score_\n",
        "\n",
        "    #oobscore_list.append(rf_model.oob_score_)\n",
        "\n",
        "oobscore_list'''"
      ],
      "execution_count": null,
      "outputs": []
    },
    {
      "cell_type": "code",
      "metadata": {
        "colab": {
          "base_uri": "https://localhost:8080/",
          "height": 796
        },
        "id": "8OpxEceSZU6B",
        "outputId": "881815d5-37c1-46f5-b183-efd60a564485"
      },
      "source": [
        "#class_weights = {'Single_Day_Trend':1,'Close':0.85,'High':0.45,'Low':0.45}\n",
        "model2 = RandomForestClassifier(n_estimators=100,\n",
        "                                criterion='gini',\n",
        "                                max_depth=20,\n",
        "                                min_samples_split=4,\n",
        "                                min_samples_leaf=1,\n",
        "                                max_features='auto',\n",
        "                                oob_score=True,\n",
        "                                random_state=1234)\n",
        "\n",
        "\n",
        "run_model(model2)\n",
        "print(f'Out of bag score for random forest model is:{model2.oob_score_}')\n",
        "\n",
        "\n",
        "\n",
        "y_hat2 = model2.predict(X_test)\n",
        "\n",
        "y_hat2_train = model2.predict(X_train)\n",
        "y_hat2_test = model2.predict(X_test)\n",
        "\n",
        "\n",
        "eval_result(model2,y_train,y_hat2_train,y_test,y_hat2_test)\n"
      ],
      "execution_count": 124,
      "outputs": [
        {
          "output_type": "stream",
          "text": [
            "Time taken: 0.19179248809814453\n",
            "Out of bag score for random forest model is:0.42134831460674155\n",
            "training data accuracy 0.9887640449438202\n",
            " Area under the ROC curve for training data 0.9887284701114489\n",
            "testing data accuracy 0.5568181818181818\n",
            " Area under the ROC curve for testing data 0.5539699014011417\n",
            "              precision    recall  f1-score   support\n",
            "\n",
            "           0    0.52500   0.51220   0.51852        41\n",
            "           1    0.58333   0.59574   0.58947        47\n",
            "\n",
            "    accuracy                        0.55682        88\n",
            "   macro avg    0.55417   0.55397   0.55400        88\n",
            "weighted avg    0.55616   0.55682   0.55642        88\n",
            "\n"
          ],
          "name": "stdout"
        },
        {
          "output_type": "display_data",
          "data": {
            "image/png": "[encoded data removed]",
            "text/plain": [
              "<Figure size 432x288 with 2 Axes>"
            ]
          },
          "metadata": {
            "tags": [],
            "needs_background": "light"
          }
        },
        {
          "output_type": "display_data",
          "data": {
            "image/png": "[encoded data removed]",
            "text/plain": [
              "<Figure size 432x288 with 1 Axes>"
            ]
          },
          "metadata": {
            "tags": [],
            "needs_background": "light"
          }
        }
      ]
    }
  ]
}