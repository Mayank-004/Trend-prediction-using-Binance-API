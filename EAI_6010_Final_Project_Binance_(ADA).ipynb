{
  "nbformat": 4,
  "nbformat_minor": 0,
  "metadata": {
    "kernelspec": {
      "display_name": "Python 3",
      "language": "python",
      "name": "python3"
    },
    "language_info": {
      "codemirror_mode": {
        "name": "ipython",
        "version": 3
      },
      "file_extension": ".py",
      "mimetype": "text/x-python",
      "name": "python",
      "nbconvert_exporter": "python",
      "pygments_lexer": "ipython3",
      "version": "3.8.5"
    },
    "colab": {
      "name": "EAI 6010 Final Project - Binance (ADA).ipynb",
      "provenance": []
    }
  },
  "cells": [
    {
      "cell_type": "code",
      "metadata": {
        "colab": {
          "base_uri": "https://localhost:8080/"
        },
        "id": "RdR-UZojZU59",
        "outputId": "522fdb68-39b1-422f-f102-067044495299"
      },
      "source": [
        "# Download Python Binance Library (uncomment next 2 liens if library not already installed)\n",
        "\n",
        "import sys\n",
        "!{sys.executable} -m pip install python-binance\n",
        "\n",
        "import binance\n",
        "import pandas as pd\n",
        "import numpy as np\n",
        "import matplotlib.pyplot as plt\n",
        "import datetime\n",
        "from sklearn.model_selection import train_test_split\n",
        "from patsy import dmatrices\n",
        "from sklearn.neighbors import KNeighborsClassifier\n",
        "from sklearn.ensemble import RandomForestClassifier\n",
        "from sklearn.metrics import confusion_matrix, ConfusionMatrixDisplay, f1_score,accuracy_score\n"
      ],
      "execution_count": 41,
      "outputs": [
        {
          "output_type": "stream",
          "text": [
            "Requirement already satisfied: python-binance in /usr/local/lib/python3.7/dist-packages (1.0.10)\n",
            "Requirement already satisfied: ujson in /usr/local/lib/python3.7/dist-packages (from python-binance) (4.0.2)\n",
            "Requirement already satisfied: dateparser in /usr/local/lib/python3.7/dist-packages (from python-binance) (1.0.0)\n",
            "Requirement already satisfied: six in /usr/local/lib/python3.7/dist-packages (from python-binance) (1.15.0)\n",
            "Requirement already satisfied: websockets in /usr/local/lib/python3.7/dist-packages (from python-binance) (9.0.1)\n",
            "Requirement already satisfied: aiohttp in /usr/local/lib/python3.7/dist-packages (from python-binance) (3.7.4.post0)\n",
            "Requirement already satisfied: requests in /usr/local/lib/python3.7/dist-packages (from python-binance) (2.23.0)\n",
            "Requirement already satisfied: regex!=2019.02.19 in /usr/local/lib/python3.7/dist-packages (from dateparser->python-binance) (2019.12.20)\n",
            "Requirement already satisfied: pytz in /usr/local/lib/python3.7/dist-packages (from dateparser->python-binance) (2018.9)\n",
            "Requirement already satisfied: python-dateutil in /usr/local/lib/python3.7/dist-packages (from dateparser->python-binance) (2.8.1)\n",
            "Requirement already satisfied: tzlocal in /usr/local/lib/python3.7/dist-packages (from dateparser->python-binance) (1.5.1)\n",
            "Requirement already satisfied: chardet<5.0,>=2.0 in /usr/local/lib/python3.7/dist-packages (from aiohttp->python-binance) (3.0.4)\n",
            "Requirement already satisfied: async-timeout<4.0,>=3.0 in /usr/local/lib/python3.7/dist-packages (from aiohttp->python-binance) (3.0.1)\n",
            "Requirement already satisfied: yarl<2.0,>=1.0 in /usr/local/lib/python3.7/dist-packages (from aiohttp->python-binance) (1.6.3)\n",
            "Requirement already satisfied: multidict<7.0,>=4.5 in /usr/local/lib/python3.7/dist-packages (from aiohttp->python-binance) (5.1.0)\n",
            "Requirement already satisfied: attrs>=17.3.0 in /usr/local/lib/python3.7/dist-packages (from aiohttp->python-binance) (21.2.0)\n",
            "Requirement already satisfied: typing-extensions>=3.6.5 in /usr/local/lib/python3.7/dist-packages (from aiohttp->python-binance) (3.7.4.3)\n",
            "Requirement already satisfied: urllib3!=1.25.0,!=1.25.1,<1.26,>=1.21.1 in /usr/local/lib/python3.7/dist-packages (from requests->python-binance) (1.24.3)\n",
            "Requirement already satisfied: idna<3,>=2.5 in /usr/local/lib/python3.7/dist-packages (from requests->python-binance) (2.10)\n",
            "Requirement already satisfied: certifi>=2017.4.17 in /usr/local/lib/python3.7/dist-packages (from requests->python-binance) (2020.12.5)\n"
          ],
          "name": "stdout"
        }
      ]
    },
    {
      "cell_type": "code",
      "metadata": {
        "id": "K6ymf5cfZU5-"
      },
      "source": [
        "# Binance API key and secret key\n",
        "binance_api='g4hg1wOj6QP1lq0SavNegKi2zlRsjPEWJbGcKo7SABQCtEENmadsRdW4ZHR676Yv'\n",
        "binance_secret='0W1uLsUY7H5VqfFRydvNSB2S7I2KlGFULRDKHGklhlfmsQhOJTKzCeXO5MOQ8ldp'"
      ],
      "execution_count": 23,
      "outputs": []
    },
    {
      "cell_type": "code",
      "metadata": {
        "id": "NFTKLUbdZU5_"
      },
      "source": [
        "# Initialize Binance API\n",
        "client = binance.Client(binance_api, binance_secret)"
      ],
      "execution_count": 24,
      "outputs": []
    },
    {
      "cell_type": "code",
      "metadata": {
        "id": "OWEALuXDZU5_"
      },
      "source": [
        "# Pull k-line historical data for ADA\n",
        "START = '1609459200' # Start string - Jan 1 2020 (Beginning of the year until now of historical data)\n",
        "k_line_type = binance.enums.HistoricalKlinesType.SPOT\n",
        "ADA_SYMBOL = 'ADAUSDT'\n",
        "KLINE_INTERVAL = '12h'\n",
        "hist_data = client.get_historical_klines(symbol=ADA_SYMBOL,interval=KLINE_INTERVAL,start_str=START,klines_type=k_line_type)"
      ],
      "execution_count": 25,
      "outputs": []
    },
    {
      "cell_type": "code",
      "metadata": {
        "id": "uF3jdSANnalN"
      },
      "source": [
        "hist_data"
      ],
      "execution_count": null,
      "outputs": []
    },
    {
      "cell_type": "markdown",
      "metadata": {
        "id": "9uVKrfBVZU5_"
      },
      "source": [
        "## Example Format for hist_data\n",
        "  [<br>\n",
        "    1499040000000,      # Open time \n",
        "    <br>\n",
        "    0.01634790,       # Open\n",
        "    <br>\n",
        "    0.80000000,       # High \n",
        "    <br>\n",
        "    0.01575800,       # Low \n",
        "    <br>\n",
        "    0.01577100,       # Close \n",
        "    <br>\n",
        "    148976.11427815,  # Volume \n",
        "    <br>\n",
        "    1499644799999,      # Close time\n",
        "    <br>\n",
        "    2434.19055334,    # Quote asset volume\n",
        "    <br>\n",
        "    308,                # Number of trades \n",
        "    <br>\n",
        "    1756.87402397,    # Taker buy base asset volume \n",
        "    <br>\n",
        "    28.46694368,      # Taker buy quote asset volume\n",
        "    <br>\n",
        "    17928899.62484339 # Ignore \n",
        "    <br>\n",
        "  ]\n",
        "  \n",
        " Source: https://sammchardy.github.io/historical-data-download-binance/"
      ]
    },
    {
      "cell_type": "code",
      "metadata": {
        "colab": {
          "base_uri": "https://localhost:8080/",
          "height": 204
        },
        "id": "QjujYox1ZU5_",
        "outputId": "af18ff06-a312-4a33-ffad-15dd39f3e545"
      },
      "source": [
        "# Initialize relevant data into DataFrame to use with model\n",
        "time = []\n",
        "open_list = []\n",
        "high_list = []\n",
        "low_list = []\n",
        "close_list = []\n",
        "trend = [] # 0 for open == close , 1 for open < close, -1 for close > open\n",
        "next_day_trend = []\n",
        "for i in range(len(hist_data)-1):\n",
        "    time.append(datetime.datetime.fromtimestamp(hist_data[i][0]/1000))\n",
        "    open_list.append(hist_data[i][1])\n",
        "    high_list.append(hist_data[i][2])\n",
        "    low_list.append(hist_data[i][3])\n",
        "    close_list.append(hist_data[i][4])\n",
        "    if (float(hist_data[i][4])-float(hist_data[i][1])) > 0:\n",
        "        trend.append(1)\n",
        "    if (float(hist_data[i][4])-float(hist_data[i][1])) < 0:\n",
        "#         trend.append(-1)\n",
        "        trend.append(0)\n",
        "    if (float(hist_data[i][4])-float(hist_data[i][1])) == 0:\n",
        "        trend.append(0)\n",
        "    if (float(hist_data[i+1][4])-float(hist_data[i][4])) > 0:\n",
        "        next_day_trend.append(1)\n",
        "    if (float(hist_data[i+1][4])-float(hist_data[i][4])) < 0:\n",
        "#         next_day_trend.append(-1)\n",
        "        next_day_trend.append(0)\n",
        "    if (float(hist_data[i+1][4])-float(hist_data[i][4])) == 0:\n",
        "        next_day_trend.append(0)\n",
        "df = pd.DataFrame(list(zip(time, open_list, high_list, low_list, close_list, trend, next_day_trend)),\n",
        "               columns =['Time','Open', 'High', 'Low', 'Close', 'Single_Day_Trend', 'Two_Day_Trend'])\n",
        "df.head()"
      ],
      "execution_count": 26,
      "outputs": [
        {
          "output_type": "execute_result",
          "data": {
            "text/html": [
              "<div>\n",
              "<style scoped>\n",
              "    .dataframe tbody tr th:only-of-type {\n",
              "        vertical-align: middle;\n",
              "    }\n",
              "\n",
              "    .dataframe tbody tr th {\n",
              "        vertical-align: top;\n",
              "    }\n",
              "\n",
              "    .dataframe thead th {\n",
              "        text-align: right;\n",
              "    }\n",
              "</style>\n",
              "<table border=\"1\" class=\"dataframe\">\n",
              "  <thead>\n",
              "    <tr style=\"text-align: right;\">\n",
              "      <th></th>\n",
              "      <th>Time</th>\n",
              "      <th>Open</th>\n",
              "      <th>High</th>\n",
              "      <th>Low</th>\n",
              "      <th>Close</th>\n",
              "      <th>Single_Day_Trend</th>\n",
              "      <th>Two_Day_Trend</th>\n",
              "    </tr>\n",
              "  </thead>\n",
              "  <tbody>\n",
              "    <tr>\n",
              "      <th>0</th>\n",
              "      <td>2021-01-01 00:00:00</td>\n",
              "      <td>0.18134000</td>\n",
              "      <td>0.18473000</td>\n",
              "      <td>0.17673000</td>\n",
              "      <td>0.17950000</td>\n",
              "      <td>0</td>\n",
              "      <td>0</td>\n",
              "    </tr>\n",
              "    <tr>\n",
              "      <th>1</th>\n",
              "      <td>2021-01-01 12:00:00</td>\n",
              "      <td>0.17943000</td>\n",
              "      <td>0.18359000</td>\n",
              "      <td>0.17000000</td>\n",
              "      <td>0.17509000</td>\n",
              "      <td>0</td>\n",
              "      <td>0</td>\n",
              "    </tr>\n",
              "    <tr>\n",
              "      <th>2</th>\n",
              "      <td>2021-01-02 00:00:00</td>\n",
              "      <td>0.17505000</td>\n",
              "      <td>0.17618000</td>\n",
              "      <td>0.16793000</td>\n",
              "      <td>0.17204000</td>\n",
              "      <td>0</td>\n",
              "      <td>1</td>\n",
              "    </tr>\n",
              "    <tr>\n",
              "      <th>3</th>\n",
              "      <td>2021-01-02 12:00:00</td>\n",
              "      <td>0.17207000</td>\n",
              "      <td>0.18457000</td>\n",
              "      <td>0.17026000</td>\n",
              "      <td>0.17742000</td>\n",
              "      <td>1</td>\n",
              "      <td>1</td>\n",
              "    </tr>\n",
              "    <tr>\n",
              "      <th>4</th>\n",
              "      <td>2021-01-03 00:00:00</td>\n",
              "      <td>0.17740000</td>\n",
              "      <td>0.19420000</td>\n",
              "      <td>0.17255000</td>\n",
              "      <td>0.18882000</td>\n",
              "      <td>1</td>\n",
              "      <td>1</td>\n",
              "    </tr>\n",
              "  </tbody>\n",
              "</table>\n",
              "</div>"
            ],
            "text/plain": [
              "                 Time        Open  ... Single_Day_Trend Two_Day_Trend\n",
              "0 2021-01-01 00:00:00  0.18134000  ...                0             0\n",
              "1 2021-01-01 12:00:00  0.17943000  ...                0             0\n",
              "2 2021-01-02 00:00:00  0.17505000  ...                0             1\n",
              "3 2021-01-02 12:00:00  0.17207000  ...                1             1\n",
              "4 2021-01-03 00:00:00  0.17740000  ...                1             1\n",
              "\n",
              "[5 rows x 7 columns]"
            ]
          },
          "metadata": {
            "tags": []
          },
          "execution_count": 26
        }
      ]
    },
    {
      "cell_type": "code",
      "metadata": {
        "id": "otUpJEC1ZU6A"
      },
      "source": [
        "# Split relevant variables into matrices and split into train and test groups\n",
        "y, X = df['Two_Day_Trend'], [df['High'],df['Low'],df['Close'],df['Single_Day_Trend']]\n",
        "X_train, X_test, y_train, y_test = train_test_split(np.array(X).T, y, test_size=0.33, random_state=42)"
      ],
      "execution_count": 27,
      "outputs": []
    },
    {
      "cell_type": "markdown",
      "metadata": {
        "id": "dVwS2HzrZU6A"
      },
      "source": [
        "# kNN Model"
      ]
    },
    {
      "cell_type": "code",
      "metadata": {
        "scrolled": false,
        "colab": {
          "base_uri": "https://localhost:8080/"
        },
        "id": "iBnwNNhDZU6A",
        "outputId": "dd3a9efe-5d88-4e12-ebf1-eadce205dee3"
      },
      "source": [
        "# p = 2 is equivalent to using the euclidean distance\n",
        "# weights = 'distance' means closer points are weighted more heavily than further away points\n",
        "n_neighbors = 5\n",
        "model1 = KNeighborsClassifier(n_neighbors=n_neighbors,weights='distance',algorithm='auto',p=2)\n",
        "model1.fit(X_train,y_train)\n",
        "y_hat_train = model1.predict(X_train)\n",
        "y_hat_test = model1.predict(X_test)\n",
        "train_accuracy = accuracy_score(y_train,y_hat_train)\n",
        "test_accuracy = accuracy_score(y_test,y_hat_test)\n",
        "\n",
        "print(f\"Train Accuracy for KNeighborsClassifier:{train_accuracy}\")\n",
        "print(f\"Test Accuracy for KNeighborsClassifier:{test_accuracy}\")\n",
        "\n"
      ],
      "execution_count": 60,
      "outputs": [
        {
          "output_type": "stream",
          "text": [
            "Train Accuracy for KNeighborsClassifier:1.0\n",
            "Test Accuracy for KNeighborsClassifier:0.5113636363636364\n"
          ],
          "name": "stdout"
        }
      ]
    },
    {
      "cell_type": "code",
      "metadata": {
        "colab": {
          "base_uri": "https://localhost:8080/"
        },
        "id": "D2Aw0D7bw0ur",
        "outputId": "e8d5658c-ec5a-4b14-e01d-28326cb7a3bc"
      },
      "source": [
        "type(y_hat_train)"
      ],
      "execution_count": 47,
      "outputs": [
        {
          "output_type": "execute_result",
          "data": {
            "text/plain": [
              "numpy.ndarray"
            ]
          },
          "metadata": {
            "tags": []
          },
          "execution_count": 47
        }
      ]
    },
    {
      "cell_type": "code",
      "metadata": {
        "colab": {
          "base_uri": "https://localhost:8080/",
          "height": 346
        },
        "id": "MMePwfvJZU6A",
        "outputId": "c7606787-0774-45b1-b85a-1a94ab14f0c2"
      },
      "source": [
        "cm_Test1 = confusion_matrix(y_test,y_hat1)\n",
        "disp = ConfusionMatrixDisplay(cm_Test1,display_labels=model1.classes_)\n",
        "disp.plot()\n",
        "plt.title('Confusion Matrix for Test Data (k=%i)' %(n_neighbors));\n",
        "print('Accuracy: ', (cm_Test1[0][0]+cm_Test1[1][1])/(cm_Test1[0][0]+cm_Test1[0][1]+cm_Test1[1][0]+cm_Test1[1][1]))\n",
        "print('Precision: ',(cm_Test1[0][0])/(cm_Test1[0][0]+cm_Test1[0][1]))\n",
        "print('F1 Score: ', f1_score(y_test, y_hat1, average=None)[0])"
      ],
      "execution_count": 34,
      "outputs": [
        {
          "output_type": "stream",
          "text": [
            "Precision:  0.5113636363636364\n",
            "Accuracy:  0.4358974358974359\n",
            "F1 Score:  0.44155844155844154\n"
          ],
          "name": "stdout"
        },
        {
          "output_type": "display_data",
          "data": {
            "image/png": "[encoded data removed]",
            "text/plain": [
              "<Figure size 432x288 with 2 Axes>"
            ]
          },
          "metadata": {
            "tags": [],
            "needs_background": "light"
          }
        }
      ]
    },
    {
      "cell_type": "code",
      "metadata": {
        "colab": {
          "base_uri": "https://localhost:8080/"
        },
        "id": "Vk9LX40ay94m",
        "outputId": "d7fb7240-cc5d-48e3-dc04-cb0a477b3960"
      },
      "source": [
        "cm_Test1[0][1]"
      ],
      "execution_count": 58,
      "outputs": [
        {
          "output_type": "execute_result",
          "data": {
            "text/plain": [
              "22"
            ]
          },
          "metadata": {
            "tags": []
          },
          "execution_count": 58
        }
      ]
    },
    {
      "cell_type": "code",
      "metadata": {
        "colab": {
          "base_uri": "https://localhost:8080/"
        },
        "id": "pKGZlIjgz--k",
        "outputId": "887f8dac-ea24-492c-b189-a3c649d4c3d0"
      },
      "source": [
        "(cm_Test1[0][0]+cm_Test1[0][1])"
      ],
      "execution_count": 59,
      "outputs": [
        {
          "output_type": "execute_result",
          "data": {
            "text/plain": [
              "39"
            ]
          },
          "metadata": {
            "tags": []
          },
          "execution_count": 59
        }
      ]
    },
    {
      "cell_type": "markdown",
      "metadata": {
        "id": "lB1zra1yZU6B"
      },
      "source": [
        "# Random Forest Model"
      ]
    },
    {
      "cell_type": "code",
      "metadata": {
        "colab": {
          "base_uri": "https://localhost:8080/"
        },
        "id": "8OpxEceSZU6B",
        "outputId": "973e5822-6190-4409-df12-81695173e0d4"
      },
      "source": [
        "class_weights = {'Single_Day_Trend':1,'Close':0.85,'High':0.45,'Low':0.45}\n",
        "model2 = RandomForestClassifier(n_estimators=100, criterion='gini',max_depth=20,min_samples_split=4,max_features='auto', random_state=1234)\n",
        "model2.fit(X_train,y_train)\n",
        "y_hat2 = model2.predict(X_test)\n",
        "\n",
        "y_hat2_train = model2.predict(X_train)\n",
        "y_hat2_test = model2.predict(X_test)\n",
        "train_accuracy_rf = accuracy_score(y_train,y_hat2_train)\n",
        "test_accuracy_rf = accuracy_score(y_test,y_hat2_test)\n",
        "\n",
        "print(f\"Train Accuracy for random forest:{train_accuracy_rf}\")\n",
        "print(f\"Test Accuracy for random forest:{test_accuracy_rf}\")\n",
        "\n"
      ],
      "execution_count": 55,
      "outputs": [
        {
          "output_type": "stream",
          "text": [
            "Train Accuracy for random forest:0.9774011299435028\n",
            "Test Accuracy for random forest:0.6818181818181818\n"
          ],
          "name": "stdout"
        }
      ]
    },
    {
      "cell_type": "code",
      "metadata": {
        "scrolled": true,
        "colab": {
          "base_uri": "https://localhost:8080/",
          "height": 346
        },
        "id": "7skTQACBZU6B",
        "outputId": "6171a2f2-0eee-486d-f43b-29eea8a4a1d8"
      },
      "source": [
        "cm_Test2 = confusion_matrix(y_test,y_hat2)\n",
        "disp = ConfusionMatrixDisplay(cm_Test2,display_labels=model2.classes_)\n",
        "disp.plot()\n",
        "plt.title('Confusion Matrix for Test Data (Random Forest)');\n",
        "print('Accuracy: ', (cm_Test2[0][0]+cm_Test2[1][1])/(cm_Test2[0][0]+cm_Test2[0][1]+cm_Test2[1][0]+cm_Test2[1][1]))\n",
        "print('Precision: ',(cm_Test2[0][0])/(cm_Test2[0][0]+cm_Test2[0][1]))\n",
        "print('F1 Score: ', f1_score(y_test, y_hat2, average=None)[1])"
      ],
      "execution_count": 61,
      "outputs": [
        {
          "output_type": "stream",
          "text": [
            "Accuracy:  0.6818181818181818\n",
            "Precision:  0.5641025641025641\n",
            "F1 Score:  0.7307692307692308\n"
          ],
          "name": "stdout"
        },
        {
          "output_type": "display_data",
          "data": {
            "image/png": "[encoded data removed]",
            "text/plain": [
              "<Figure size 432x288 with 2 Axes>"
            ]
          },
          "metadata": {
            "tags": [],
            "needs_background": "light"
          }
        }
      ]
    }
  ]
}